{
 "cells": [
  {
   "cell_type": "code",
   "execution_count": 2,
   "metadata": {},
   "outputs": [],
   "source": [
    "import pandas as pd\n",
    "from bs4 import BeautifulSoup\n",
    "import requests\n"
   ]
  },
  {
   "cell_type": "code",
   "execution_count": 6,
   "metadata": {},
   "outputs": [],
   "source": [
    "import pymysql\n",
    "import mysql.connector as mysql\n",
    "\n",
    "# database connection\n",
    "db = mysql.connect(user = \"root\", database = \"hadith\")\n",
    "cursor = db.cursor()\n"
   ]
  },
  {
   "cell_type": "code",
   "execution_count": 8,
   "metadata": {},
   "outputs": [
    {
     "data": {
      "text/plain": [
       "True"
      ]
     },
     "execution_count": 8,
     "metadata": {},
     "output_type": "execute_result"
    }
   ],
   "source": [
    "from bs4 import BeautifulSoup\n",
    "\n",
    "response = requests.get('https://40hadithnawawi.com/')\n",
    "soup = BeautifulSoup(response.content, 'html.parser')\n",
    "books = soup.find_all('div', class_='book')\n",
    "\n",
    "for book in books:\n",
    "    book_name = book.find('h2').text\n",
    "    book_description = book.find('p').text\n",
    "    book_image = book.find('img')['src']\n",
    "    book_link = book.find('a')['href']\n",
    "    print(book_name)\n",
    "    print(book_description)\n",
    "    print(book_image)\n",
    "    print(book_link)\n",
    "    print('------------------------')\n",
    "\n",
    "    # insert into database\n",
    "    cursor.execute(\"INSERT INTO books (name, description, image, link) VALUES (%s, %s, %s, %s)\", (book_name, book_description, book_image, book_link))\n",
    "    cursor.commit()\n",
    "\n",
    "    # get the last inserted id\n",
    "    book_id = cursor.lastrowid\n",
    "\n",
    "    # get the book details\n",
    "    response = requests.get(book_link)\n",
    "    soup = BeautifulSoup(response.content, 'html.parser')\n",
    "    chapters = soup.find_all('div', class_='chapter')\n",
    "\n",
    "    for chapter in chapters:\n",
    "        chapter_name = chapter.find('h3').text\n",
    "        chapter_description = chapter.find('p').text\n",
    "        chapter_link = chapter.find('a')['href']\n",
    "        print(chapter_name)\n",
    "        print(chapter_description)\n",
    "        print(chapter_link)\n",
    "        print('------------------------')\n",
    "\n",
    "        # insert into database\n",
    "        cursor.execute(\"INSERT INTO chapters (name, description, link, book_id) VALUES (%s, %s, %s, %s)\", (chapter_name, chapter_description, chapter_link, book_id))\n",
    "        cursor.commit()\n",
    "\n",
    "        # get the last inserted id\n",
    "        chapter_id = cursor.lastrowid\n",
    "\n",
    "        # get the chapter details\n",
    "        response = requests.get(chapter_link)\n",
    "        soup = BeautifulSoup(response.content, 'html.parser')\n",
    "        hadiths = soup.find_all('div', class_='hadith')\n",
    "\n",
    "        for hadith in hadiths:\n",
    "            hadith_number = hadith.find('h4').text\n",
    "            hadith_text = hadith.find('p').text\n",
    "            print(hadith_number)\n",
    "            print(hadith_text)\n",
    "            print('------------------------')\n",
    "\n",
    "            # insert into database\n",
    "            cursor.execute(\"INSERT INTO hadiths (number, text, chapter_id) VALUES (%s, %s, %s)\", (hadith_number, hadith_text, chapter_id))\n",
    "            cursor.commit()\n",
    "            \n",
    "\n",
    "# close the connection\n",
    "cursor.close()\n",
    "            \n"
   ]
  },
  {
   "cell_type": "code",
   "execution_count": null,
   "metadata": {},
   "outputs": [],
   "source": []
  },
  {
   "cell_type": "code",
   "execution_count": null,
   "metadata": {},
   "outputs": [],
   "source": []
  },
  {
   "cell_type": "code",
   "execution_count": null,
   "metadata": {},
   "outputs": [],
   "source": []
  },
  {
   "cell_type": "code",
   "execution_count": null,
   "metadata": {},
   "outputs": [],
   "source": []
  }
 ],
 "metadata": {
  "kernelspec": {
   "display_name": "Python 3",
   "language": "python",
   "name": "python3"
  },
  "language_info": {
   "codemirror_mode": {
    "name": "ipython",
    "version": 3
   },
   "file_extension": ".py",
   "mimetype": "text/x-python",
   "name": "python",
   "nbconvert_exporter": "python",
   "pygments_lexer": "ipython3",
   "version": "3.11.3"
  },
  "orig_nbformat": 4
 },
 "nbformat": 4,
 "nbformat_minor": 2
}
